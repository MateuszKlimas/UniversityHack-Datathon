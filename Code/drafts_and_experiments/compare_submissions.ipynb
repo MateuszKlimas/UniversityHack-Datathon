{
 "cells": [
  {
   "cell_type": "code",
   "execution_count": 1,
   "metadata": {},
   "outputs": [],
   "source": [
    "import pandas as pd"
   ]
  },
  {
   "cell_type": "code",
   "execution_count": 75,
   "metadata": {},
   "outputs": [],
   "source": [
    "df_70 = pd.read_csv(\"UPM_Bester manns.txt\", sep = \"|\", index_col = 0)\n",
    "df_jorge = pd.read_csv(\"UPM_bestermans_Jorge2.txt\", sep = \"|\", index_col = 0)"
   ]
  },
  {
   "cell_type": "code",
   "execution_count": 76,
   "metadata": {},
   "outputs": [
    {
     "name": "stdout",
     "output_type": "stream",
     "text": [
      "(5618, 1)\n",
      "(5618, 1)\n"
     ]
    }
   ],
   "source": [
    "print(df_70.shape)\n",
    "print(df_jorge.shape)"
   ]
  },
  {
   "cell_type": "code",
   "execution_count": 77,
   "metadata": {},
   "outputs": [],
   "source": [
    "df_70[\"count_70\"] = 1\n",
    "left = df_70.groupby(df_70.CLASE).count()/df_70.shape[0]*100"
   ]
  },
  {
   "cell_type": "code",
   "execution_count": 78,
   "metadata": {},
   "outputs": [],
   "source": [
    "df_jorge[\"count_jorge\"] = 1\n",
    "right = df_jorge.groupby(df_jorge.CLASE).count()/df_jorge.shape[0]*100"
   ]
  },
  {
   "cell_type": "code",
   "execution_count": 79,
   "metadata": {},
   "outputs": [
    {
     "data": {
      "text/html": [
       "<div>\n",
       "<style scoped>\n",
       "    .dataframe tbody tr th:only-of-type {\n",
       "        vertical-align: middle;\n",
       "    }\n",
       "\n",
       "    .dataframe tbody tr th {\n",
       "        vertical-align: top;\n",
       "    }\n",
       "\n",
       "    .dataframe thead th {\n",
       "        text-align: right;\n",
       "    }\n",
       "</style>\n",
       "<table border=\"1\" class=\"dataframe\">\n",
       "  <thead>\n",
       "    <tr style=\"text-align: right;\">\n",
       "      <th></th>\n",
       "      <th>count_70</th>\n",
       "      <th>count_jorge</th>\n",
       "      <th>diff</th>\n",
       "    </tr>\n",
       "    <tr>\n",
       "      <th>CLASE</th>\n",
       "      <th></th>\n",
       "      <th></th>\n",
       "      <th></th>\n",
       "    </tr>\n",
       "  </thead>\n",
       "  <tbody>\n",
       "    <tr>\n",
       "      <th>AGRICULTURE</th>\n",
       "      <td>2.224991</td>\n",
       "      <td>1.548594</td>\n",
       "      <td>-0.676397</td>\n",
       "    </tr>\n",
       "    <tr>\n",
       "      <th>INDUSTRIAL</th>\n",
       "      <td>23.015308</td>\n",
       "      <td>10.840157</td>\n",
       "      <td>-12.175151</td>\n",
       "    </tr>\n",
       "    <tr>\n",
       "      <th>OFFICE</th>\n",
       "      <td>7.315771</td>\n",
       "      <td>5.250979</td>\n",
       "      <td>-2.064792</td>\n",
       "    </tr>\n",
       "    <tr>\n",
       "      <th>OTHER</th>\n",
       "      <td>6.835173</td>\n",
       "      <td>5.535778</td>\n",
       "      <td>-1.299395</td>\n",
       "    </tr>\n",
       "    <tr>\n",
       "      <th>PUBLIC</th>\n",
       "      <td>12.317551</td>\n",
       "      <td>3.933784</td>\n",
       "      <td>-8.383766</td>\n",
       "    </tr>\n",
       "    <tr>\n",
       "      <th>RESIDENTIAL</th>\n",
       "      <td>41.865433</td>\n",
       "      <td>69.473122</td>\n",
       "      <td>27.607690</td>\n",
       "    </tr>\n",
       "    <tr>\n",
       "      <th>RETAIL</th>\n",
       "      <td>6.425774</td>\n",
       "      <td>3.417586</td>\n",
       "      <td>-3.008188</td>\n",
       "    </tr>\n",
       "  </tbody>\n",
       "</table>\n",
       "</div>"
      ],
      "text/plain": [
       "              count_70  count_jorge       diff\n",
       "CLASE                                         \n",
       "AGRICULTURE   2.224991     1.548594  -0.676397\n",
       "INDUSTRIAL   23.015308    10.840157 -12.175151\n",
       "OFFICE        7.315771     5.250979  -2.064792\n",
       "OTHER         6.835173     5.535778  -1.299395\n",
       "PUBLIC       12.317551     3.933784  -8.383766\n",
       "RESIDENTIAL  41.865433    69.473122  27.607690\n",
       "RETAIL        6.425774     3.417586  -3.008188"
      ]
     },
     "execution_count": 79,
     "metadata": {},
     "output_type": "execute_result"
    }
   ],
   "source": [
    "pct_merge = pd.merge(left,right,left_index = True, right_index=True )\n",
    "pct_merge[\"diff\"] = pct_merge[\"count_jorge\"] - pct_merge[\"count_70\"]\n",
    "pct_merge"
   ]
  },
  {
   "cell_type": "code",
   "execution_count": 71,
   "metadata": {},
   "outputs": [
    {
     "data": {
      "text/html": [
       "<div>\n",
       "<style scoped>\n",
       "    .dataframe tbody tr th:only-of-type {\n",
       "        vertical-align: middle;\n",
       "    }\n",
       "\n",
       "    .dataframe tbody tr th {\n",
       "        vertical-align: top;\n",
       "    }\n",
       "\n",
       "    .dataframe thead th {\n",
       "        text-align: right;\n",
       "    }\n",
       "</style>\n",
       "<table border=\"1\" class=\"dataframe\">\n",
       "  <thead>\n",
       "    <tr style=\"text-align: right;\">\n",
       "      <th></th>\n",
       "      <th>count_70</th>\n",
       "      <th>count_jorge</th>\n",
       "      <th>diff</th>\n",
       "    </tr>\n",
       "    <tr>\n",
       "      <th>CLASE</th>\n",
       "      <th></th>\n",
       "      <th></th>\n",
       "      <th></th>\n",
       "    </tr>\n",
       "  </thead>\n",
       "  <tbody>\n",
       "    <tr>\n",
       "      <th>AGRICULTURE</th>\n",
       "      <td>2.224991</td>\n",
       "      <td>1.922392</td>\n",
       "      <td>-0.302599</td>\n",
       "    </tr>\n",
       "    <tr>\n",
       "      <th>INDUSTRIAL</th>\n",
       "      <td>23.015308</td>\n",
       "      <td>9.006764</td>\n",
       "      <td>-14.008544</td>\n",
       "    </tr>\n",
       "    <tr>\n",
       "      <th>OFFICE</th>\n",
       "      <td>7.315771</td>\n",
       "      <td>6.763973</td>\n",
       "      <td>-0.551798</td>\n",
       "    </tr>\n",
       "    <tr>\n",
       "      <th>OTHER</th>\n",
       "      <td>6.835173</td>\n",
       "      <td>5.749377</td>\n",
       "      <td>-1.085796</td>\n",
       "    </tr>\n",
       "    <tr>\n",
       "      <th>PUBLIC</th>\n",
       "      <td>12.317551</td>\n",
       "      <td>3.987184</td>\n",
       "      <td>-8.330367</td>\n",
       "    </tr>\n",
       "    <tr>\n",
       "      <th>RESIDENTIAL</th>\n",
       "      <td>41.865433</td>\n",
       "      <td>69.152723</td>\n",
       "      <td>27.287291</td>\n",
       "    </tr>\n",
       "    <tr>\n",
       "      <th>RETAIL</th>\n",
       "      <td>6.425774</td>\n",
       "      <td>3.417586</td>\n",
       "      <td>-3.008188</td>\n",
       "    </tr>\n",
       "  </tbody>\n",
       "</table>\n",
       "</div>"
      ],
      "text/plain": [
       "              count_70  count_jorge       diff\n",
       "CLASE                                         \n",
       "AGRICULTURE   2.224991     1.922392  -0.302599\n",
       "INDUSTRIAL   23.015308     9.006764 -14.008544\n",
       "OFFICE        7.315771     6.763973  -0.551798\n",
       "OTHER         6.835173     5.749377  -1.085796\n",
       "PUBLIC       12.317551     3.987184  -8.330367\n",
       "RESIDENTIAL  41.865433    69.152723  27.287291\n",
       "RETAIL        6.425774     3.417586  -3.008188"
      ]
     },
     "execution_count": 71,
     "metadata": {},
     "output_type": "execute_result"
    }
   ],
   "source": [
    "pct_merge = pd.merge(left,right,left_index = True, right_index=True )\n",
    "pct_merge[\"diff\"] = pct_merge[\"count_jorge\"] - pct_merge[\"count_70\"]\n",
    "pct_merge"
   ]
  },
  {
   "cell_type": "code",
   "execution_count": 85,
   "metadata": {},
   "outputs": [],
   "source": [
    "merged = pd.merge(df_70.drop([\"count_70\"], axis = 1),df_jorge.drop([\"count_jorge\"], axis = 1),left_index = True, right_index=True )\n",
    "merged.columns = [\"61%\", \"Jorge\"]"
   ]
  },
  {
   "cell_type": "code",
   "execution_count": 86,
   "metadata": {},
   "outputs": [
    {
     "data": {
      "text/html": [
       "<div>\n",
       "<style scoped>\n",
       "    .dataframe tbody tr th:only-of-type {\n",
       "        vertical-align: middle;\n",
       "    }\n",
       "\n",
       "    .dataframe tbody tr th {\n",
       "        vertical-align: top;\n",
       "    }\n",
       "\n",
       "    .dataframe thead th {\n",
       "        text-align: right;\n",
       "    }\n",
       "</style>\n",
       "<table border=\"1\" class=\"dataframe\">\n",
       "  <thead>\n",
       "    <tr style=\"text-align: right;\">\n",
       "      <th></th>\n",
       "      <th>61%</th>\n",
       "      <th>Jorge</th>\n",
       "    </tr>\n",
       "    <tr>\n",
       "      <th>ID</th>\n",
       "      <th></th>\n",
       "      <th></th>\n",
       "    </tr>\n",
       "  </thead>\n",
       "  <tbody>\n",
       "    <tr>\n",
       "      <th>44198C2A811A4DF4</th>\n",
       "      <td>OTHER</td>\n",
       "      <td>OTHER</td>\n",
       "    </tr>\n",
       "    <tr>\n",
       "      <th>216F638609E0E39E</th>\n",
       "      <td>RESIDENTIAL</td>\n",
       "      <td>RESIDENTIAL</td>\n",
       "    </tr>\n",
       "    <tr>\n",
       "      <th>FFFCEFB11E257364</th>\n",
       "      <td>RESIDENTIAL</td>\n",
       "      <td>RESIDENTIAL</td>\n",
       "    </tr>\n",
       "    <tr>\n",
       "      <th>596C5C8CE10BCF</th>\n",
       "      <td>OFFICE</td>\n",
       "      <td>OFFICE</td>\n",
       "    </tr>\n",
       "    <tr>\n",
       "      <th>F931B9FA2A8641D1</th>\n",
       "      <td>OTHER</td>\n",
       "      <td>OTHER</td>\n",
       "    </tr>\n",
       "    <tr>\n",
       "      <th>...</th>\n",
       "      <td>...</td>\n",
       "      <td>...</td>\n",
       "    </tr>\n",
       "    <tr>\n",
       "      <th>EEDC412322324F11</th>\n",
       "      <td>PUBLIC</td>\n",
       "      <td>RESIDENTIAL</td>\n",
       "    </tr>\n",
       "    <tr>\n",
       "      <th>C3ED06EF07E7B00D</th>\n",
       "      <td>RETAIL</td>\n",
       "      <td>RESIDENTIAL</td>\n",
       "    </tr>\n",
       "    <tr>\n",
       "      <th>C9625D1602A319E5</th>\n",
       "      <td>RESIDENTIAL</td>\n",
       "      <td>RESIDENTIAL</td>\n",
       "    </tr>\n",
       "    <tr>\n",
       "      <th>3A42595E9285B866</th>\n",
       "      <td>RESIDENTIAL</td>\n",
       "      <td>RESIDENTIAL</td>\n",
       "    </tr>\n",
       "    <tr>\n",
       "      <th>09E10CFCA9CD293B</th>\n",
       "      <td>RESIDENTIAL</td>\n",
       "      <td>RESIDENTIAL</td>\n",
       "    </tr>\n",
       "  </tbody>\n",
       "</table>\n",
       "<p>5618 rows × 2 columns</p>\n",
       "</div>"
      ],
      "text/plain": [
       "                          61%        Jorge\n",
       "ID                                        \n",
       "44198C2A811A4DF4        OTHER        OTHER\n",
       "216F638609E0E39E  RESIDENTIAL  RESIDENTIAL\n",
       "FFFCEFB11E257364  RESIDENTIAL  RESIDENTIAL\n",
       "596C5C8CE10BCF         OFFICE       OFFICE\n",
       "F931B9FA2A8641D1        OTHER        OTHER\n",
       "...                       ...          ...\n",
       "EEDC412322324F11       PUBLIC  RESIDENTIAL\n",
       "C3ED06EF07E7B00D       RETAIL  RESIDENTIAL\n",
       "C9625D1602A319E5  RESIDENTIAL  RESIDENTIAL\n",
       "3A42595E9285B866  RESIDENTIAL  RESIDENTIAL\n",
       "09E10CFCA9CD293B  RESIDENTIAL  RESIDENTIAL\n",
       "\n",
       "[5618 rows x 2 columns]"
      ]
     },
     "execution_count": 86,
     "metadata": {},
     "output_type": "execute_result"
    }
   ],
   "source": [
    "merged"
   ]
  },
  {
   "cell_type": "code",
   "execution_count": 87,
   "metadata": {},
   "outputs": [
    {
     "data": {
      "text/plain": [
       "3451"
      ]
     },
     "execution_count": 87,
     "metadata": {},
     "output_type": "execute_result"
    }
   ],
   "source": [
    "same = merged[\"61%\"] == merged[\"Jorge\"]\n",
    "same.sum()"
   ]
  },
  {
   "cell_type": "code",
   "execution_count": 32,
   "metadata": {},
   "outputs": [
    {
     "data": {
      "text/plain": [
       "0.608935564257743"
      ]
     },
     "execution_count": 32,
     "metadata": {},
     "output_type": "execute_result"
    }
   ],
   "source": [
    "3421/5618"
   ]
  },
  {
   "cell_type": "code",
   "execution_count": 88,
   "metadata": {},
   "outputs": [
    {
     "data": {
      "text/plain": [
       "0.6142755428978284"
      ]
     },
     "execution_count": 88,
     "metadata": {},
     "output_type": "execute_result"
    }
   ],
   "source": [
    "3451/5618"
   ]
  },
  {
   "cell_type": "code",
   "execution_count": null,
   "metadata": {},
   "outputs": [],
   "source": []
  }
 ],
 "metadata": {
  "kernelspec": {
   "display_name": "tfm",
   "language": "python",
   "name": "tfm"
  },
  "language_info": {
   "codemirror_mode": {
    "name": "ipython",
    "version": 3
   },
   "file_extension": ".py",
   "mimetype": "text/x-python",
   "name": "python",
   "nbconvert_exporter": "python",
   "pygments_lexer": "ipython3",
   "version": "3.7.6"
  }
 },
 "nbformat": 4,
 "nbformat_minor": 4
}
