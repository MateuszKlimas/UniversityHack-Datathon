{
 "cells": [
  {
   "cell_type": "code",
   "execution_count": 1,
   "metadata": {},
   "outputs": [
    {
     "name": "stderr",
     "output_type": "stream",
     "text": [
      "Using TensorFlow backend.\n"
     ]
    }
   ],
   "source": [
    "import pandas as pd\n",
    "import matplotlib.pyplot as plt\n",
    "import numpy as np\n",
    "import seaborn as sns\n",
    "from utils import *\n",
    "from imblearn.over_sampling import SMOTE"
   ]
  },
  {
   "cell_type": "code",
   "execution_count": 43,
   "metadata": {},
   "outputs": [],
   "source": [
    "estimate = pd.read_csv(\"csv/Estimar_UH2020.txt\", sep = \"|\")\n",
    "data = pd.read_csv(\"csv/Modelar_UH2020.txt\", sep = \"|\")\n",
    "total = pd.concat([data,estimate])"
   ]
  },
  {
   "cell_type": "code",
   "execution_count": 3,
   "metadata": {},
   "outputs": [
    {
     "data": {
      "text/html": [
       "<div>\n",
       "<style scoped>\n",
       "    .dataframe tbody tr th:only-of-type {\n",
       "        vertical-align: middle;\n",
       "    }\n",
       "\n",
       "    .dataframe tbody tr th {\n",
       "        vertical-align: top;\n",
       "    }\n",
       "\n",
       "    .dataframe thead th {\n",
       "        text-align: right;\n",
       "    }\n",
       "</style>\n",
       "<table border=\"1\" class=\"dataframe\">\n",
       "  <thead>\n",
       "    <tr style=\"text-align: right;\">\n",
       "      <th></th>\n",
       "      <th>ID</th>\n",
       "      <th>X</th>\n",
       "      <th>Y</th>\n",
       "      <th>Q_R_4_0_0</th>\n",
       "      <th>Q_R_4_0_1</th>\n",
       "      <th>Q_R_4_0_2</th>\n",
       "      <th>Q_R_4_0_3</th>\n",
       "      <th>Q_R_4_0_4</th>\n",
       "      <th>Q_R_4_0_5</th>\n",
       "      <th>Q_R_4_0_6</th>\n",
       "      <th>...</th>\n",
       "      <th>Q_NIR_8_1_0</th>\n",
       "      <th>AREA</th>\n",
       "      <th>GEOM_R1</th>\n",
       "      <th>GEOM_R2</th>\n",
       "      <th>GEOM_R3</th>\n",
       "      <th>GEOM_R4</th>\n",
       "      <th>CONTRUCTIONYEAR</th>\n",
       "      <th>MAXBUILDINGFLOOR</th>\n",
       "      <th>CADASTRALQUALITYID</th>\n",
       "      <th>CLASE</th>\n",
       "    </tr>\n",
       "  </thead>\n",
       "  <tbody>\n",
       "    <tr>\n",
       "      <th>0</th>\n",
       "      <td>35984B9C3E7CD9A1</td>\n",
       "      <td>2207357872</td>\n",
       "      <td>165920300</td>\n",
       "      <td>0.000000e+00</td>\n",
       "      <td>443.001300</td>\n",
       "      <td>616.001697</td>\n",
       "      <td>746.998401</td>\n",
       "      <td>872.996472</td>\n",
       "      <td>1009.000946</td>\n",
       "      <td>1159.002319</td>\n",
       "      <td>...</td>\n",
       "      <td>10951.926645</td>\n",
       "      <td>144.426900</td>\n",
       "      <td>0.557237</td>\n",
       "      <td>0.067249</td>\n",
       "      <td>0.057372</td>\n",
       "      <td>0.853127</td>\n",
       "      <td>2002</td>\n",
       "      <td>0.0</td>\n",
       "      <td>2</td>\n",
       "      <td>RESIDENTIAL</td>\n",
       "    </tr>\n",
       "    <tr>\n",
       "      <th>1</th>\n",
       "      <td>F9D04BF6D037F8FB</td>\n",
       "      <td>2189757160</td>\n",
       "      <td>165463267</td>\n",
       "      <td>5.879611e-05</td>\n",
       "      <td>443.899011</td>\n",
       "      <td>627.999060</td>\n",
       "      <td>770.001611</td>\n",
       "      <td>904.999988</td>\n",
       "      <td>1032.998474</td>\n",
       "      <td>1165.001636</td>\n",
       "      <td>...</td>\n",
       "      <td>7048.367637</td>\n",
       "      <td>38.342550</td>\n",
       "      <td>0.709884</td>\n",
       "      <td>0.125156</td>\n",
       "      <td>0.147929</td>\n",
       "      <td>1.181953</td>\n",
       "      <td>1949</td>\n",
       "      <td>1.0</td>\n",
       "      <td>8</td>\n",
       "      <td>RESIDENTIAL</td>\n",
       "    </tr>\n",
       "    <tr>\n",
       "      <th>2</th>\n",
       "      <td>B89D5711AFF8C423</td>\n",
       "      <td>2240147335</td>\n",
       "      <td>165690752</td>\n",
       "      <td>0.000000e+00</td>\n",
       "      <td>353.502274</td>\n",
       "      <td>523.003601</td>\n",
       "      <td>644.001831</td>\n",
       "      <td>760.997131</td>\n",
       "      <td>876.999634</td>\n",
       "      <td>1006.997498</td>\n",
       "      <td>...</td>\n",
       "      <td>7013.073271</td>\n",
       "      <td>108.794384</td>\n",
       "      <td>0.517702</td>\n",
       "      <td>0.058268</td>\n",
       "      <td>0.081666</td>\n",
       "      <td>1.401552</td>\n",
       "      <td>1986</td>\n",
       "      <td>1.0</td>\n",
       "      <td>5</td>\n",
       "      <td>RESIDENTIAL</td>\n",
       "    </tr>\n",
       "    <tr>\n",
       "      <th>3</th>\n",
       "      <td>1C3478AC1522E7E4</td>\n",
       "      <td>2227146459</td>\n",
       "      <td>165934099</td>\n",
       "      <td>0.000000e+00</td>\n",
       "      <td>268.000613</td>\n",
       "      <td>376.999609</td>\n",
       "      <td>478.003784</td>\n",
       "      <td>575.001233</td>\n",
       "      <td>683.997742</td>\n",
       "      <td>809.005994</td>\n",
       "      <td>...</td>\n",
       "      <td>6216.880538</td>\n",
       "      <td>155.224455</td>\n",
       "      <td>0.450871</td>\n",
       "      <td>0.053591</td>\n",
       "      <td>0.054201</td>\n",
       "      <td>1.011382</td>\n",
       "      <td>1999</td>\n",
       "      <td>1.0</td>\n",
       "      <td>2</td>\n",
       "      <td>RESIDENTIAL</td>\n",
       "    </tr>\n",
       "    <tr>\n",
       "      <th>4</th>\n",
       "      <td>4D12AA5009064345</td>\n",
       "      <td>2212350459</td>\n",
       "      <td>165681791</td>\n",
       "      <td>0.000000e+00</td>\n",
       "      <td>318.997910</td>\n",
       "      <td>492.003845</td>\n",
       "      <td>632.999634</td>\n",
       "      <td>757.002197</td>\n",
       "      <td>882.999908</td>\n",
       "      <td>1019.008911</td>\n",
       "      <td>...</td>\n",
       "      <td>7092.767616</td>\n",
       "      <td>1789.873366</td>\n",
       "      <td>0.458819</td>\n",
       "      <td>0.012858</td>\n",
       "      <td>0.019936</td>\n",
       "      <td>1.550478</td>\n",
       "      <td>1966</td>\n",
       "      <td>8.0</td>\n",
       "      <td>6</td>\n",
       "      <td>RESIDENTIAL</td>\n",
       "    </tr>\n",
       "    <tr>\n",
       "      <th>5</th>\n",
       "      <td>3E74975BD3F67ADE</td>\n",
       "      <td>2203466180</td>\n",
       "      <td>165762700</td>\n",
       "      <td>0.000000e+00</td>\n",
       "      <td>343.996613</td>\n",
       "      <td>567.010620</td>\n",
       "      <td>745.995483</td>\n",
       "      <td>900.997925</td>\n",
       "      <td>1051.995361</td>\n",
       "      <td>1200.006226</td>\n",
       "      <td>...</td>\n",
       "      <td>8827.104856</td>\n",
       "      <td>104.511247</td>\n",
       "      <td>0.466688</td>\n",
       "      <td>0.070373</td>\n",
       "      <td>0.063454</td>\n",
       "      <td>0.901678</td>\n",
       "      <td>1992</td>\n",
       "      <td>4.0</td>\n",
       "      <td>5</td>\n",
       "      <td>RESIDENTIAL</td>\n",
       "    </tr>\n",
       "    <tr>\n",
       "      <th>6</th>\n",
       "      <td>200CB7A318D959DA</td>\n",
       "      <td>2141448290</td>\n",
       "      <td>165496766</td>\n",
       "      <td>0.000000e+00</td>\n",
       "      <td>274.999353</td>\n",
       "      <td>416.001074</td>\n",
       "      <td>561.002997</td>\n",
       "      <td>706.001086</td>\n",
       "      <td>862.001343</td>\n",
       "      <td>1040.000391</td>\n",
       "      <td>...</td>\n",
       "      <td>7285.159019</td>\n",
       "      <td>373.432985</td>\n",
       "      <td>0.251622</td>\n",
       "      <td>0.029647</td>\n",
       "      <td>0.022728</td>\n",
       "      <td>0.766600</td>\n",
       "      <td>1982</td>\n",
       "      <td>1.0</td>\n",
       "      <td>4</td>\n",
       "      <td>RESIDENTIAL</td>\n",
       "    </tr>\n",
       "    <tr>\n",
       "      <th>7</th>\n",
       "      <td>80E74C603F31D41C</td>\n",
       "      <td>2212938608</td>\n",
       "      <td>165575238</td>\n",
       "      <td>1.308316e-10</td>\n",
       "      <td>405.999329</td>\n",
       "      <td>561.998108</td>\n",
       "      <td>694.002716</td>\n",
       "      <td>832.001648</td>\n",
       "      <td>969.999817</td>\n",
       "      <td>1115.003906</td>\n",
       "      <td>...</td>\n",
       "      <td>8126.684713</td>\n",
       "      <td>489.776545</td>\n",
       "      <td>0.349491</td>\n",
       "      <td>0.025246</td>\n",
       "      <td>0.028265</td>\n",
       "      <td>1.119589</td>\n",
       "      <td>1952</td>\n",
       "      <td>7.0</td>\n",
       "      <td>4</td>\n",
       "      <td>RESIDENTIAL</td>\n",
       "    </tr>\n",
       "    <tr>\n",
       "      <th>8</th>\n",
       "      <td>2FC79F1B7379EC1F</td>\n",
       "      <td>2160794349</td>\n",
       "      <td>165672907</td>\n",
       "      <td>3.997917e-05</td>\n",
       "      <td>396.000687</td>\n",
       "      <td>530.996887</td>\n",
       "      <td>637.001221</td>\n",
       "      <td>735.997009</td>\n",
       "      <td>834.503479</td>\n",
       "      <td>946.001526</td>\n",
       "      <td>...</td>\n",
       "      <td>7122.145471</td>\n",
       "      <td>116.391550</td>\n",
       "      <td>0.523862</td>\n",
       "      <td>0.063012</td>\n",
       "      <td>0.071429</td>\n",
       "      <td>1.133571</td>\n",
       "      <td>1970</td>\n",
       "      <td>1.0</td>\n",
       "      <td>4</td>\n",
       "      <td>RESIDENTIAL</td>\n",
       "    </tr>\n",
       "    <tr>\n",
       "      <th>9</th>\n",
       "      <td>A4A6D078FB1079E5</td>\n",
       "      <td>2267210836</td>\n",
       "      <td>165899063</td>\n",
       "      <td>1.098887e-03</td>\n",
       "      <td>454.999338</td>\n",
       "      <td>573.005005</td>\n",
       "      <td>668.002612</td>\n",
       "      <td>752.999573</td>\n",
       "      <td>853.000122</td>\n",
       "      <td>1005.999158</td>\n",
       "      <td>...</td>\n",
       "      <td>5997.459077</td>\n",
       "      <td>333.617230</td>\n",
       "      <td>0.860099</td>\n",
       "      <td>0.046252</td>\n",
       "      <td>0.055740</td>\n",
       "      <td>1.205122</td>\n",
       "      <td>1990</td>\n",
       "      <td>1.0</td>\n",
       "      <td>6</td>\n",
       "      <td>INDUSTRIAL</td>\n",
       "    </tr>\n",
       "  </tbody>\n",
       "</table>\n",
       "<p>10 rows × 56 columns</p>\n",
       "</div>"
      ],
      "text/plain": [
       "                 ID           X          Y     Q_R_4_0_0   Q_R_4_0_1  \\\n",
       "0  35984B9C3E7CD9A1  2207357872  165920300  0.000000e+00  443.001300   \n",
       "1  F9D04BF6D037F8FB  2189757160  165463267  5.879611e-05  443.899011   \n",
       "2  B89D5711AFF8C423  2240147335  165690752  0.000000e+00  353.502274   \n",
       "3  1C3478AC1522E7E4  2227146459  165934099  0.000000e+00  268.000613   \n",
       "4  4D12AA5009064345  2212350459  165681791  0.000000e+00  318.997910   \n",
       "5  3E74975BD3F67ADE  2203466180  165762700  0.000000e+00  343.996613   \n",
       "6  200CB7A318D959DA  2141448290  165496766  0.000000e+00  274.999353   \n",
       "7  80E74C603F31D41C  2212938608  165575238  1.308316e-10  405.999329   \n",
       "8  2FC79F1B7379EC1F  2160794349  165672907  3.997917e-05  396.000687   \n",
       "9  A4A6D078FB1079E5  2267210836  165899063  1.098887e-03  454.999338   \n",
       "\n",
       "    Q_R_4_0_2   Q_R_4_0_3   Q_R_4_0_4    Q_R_4_0_5    Q_R_4_0_6  ...  \\\n",
       "0  616.001697  746.998401  872.996472  1009.000946  1159.002319  ...   \n",
       "1  627.999060  770.001611  904.999988  1032.998474  1165.001636  ...   \n",
       "2  523.003601  644.001831  760.997131   876.999634  1006.997498  ...   \n",
       "3  376.999609  478.003784  575.001233   683.997742   809.005994  ...   \n",
       "4  492.003845  632.999634  757.002197   882.999908  1019.008911  ...   \n",
       "5  567.010620  745.995483  900.997925  1051.995361  1200.006226  ...   \n",
       "6  416.001074  561.002997  706.001086   862.001343  1040.000391  ...   \n",
       "7  561.998108  694.002716  832.001648   969.999817  1115.003906  ...   \n",
       "8  530.996887  637.001221  735.997009   834.503479   946.001526  ...   \n",
       "9  573.005005  668.002612  752.999573   853.000122  1005.999158  ...   \n",
       "\n",
       "    Q_NIR_8_1_0         AREA   GEOM_R1   GEOM_R2   GEOM_R3   GEOM_R4  \\\n",
       "0  10951.926645   144.426900  0.557237  0.067249  0.057372  0.853127   \n",
       "1   7048.367637    38.342550  0.709884  0.125156  0.147929  1.181953   \n",
       "2   7013.073271   108.794384  0.517702  0.058268  0.081666  1.401552   \n",
       "3   6216.880538   155.224455  0.450871  0.053591  0.054201  1.011382   \n",
       "4   7092.767616  1789.873366  0.458819  0.012858  0.019936  1.550478   \n",
       "5   8827.104856   104.511247  0.466688  0.070373  0.063454  0.901678   \n",
       "6   7285.159019   373.432985  0.251622  0.029647  0.022728  0.766600   \n",
       "7   8126.684713   489.776545  0.349491  0.025246  0.028265  1.119589   \n",
       "8   7122.145471   116.391550  0.523862  0.063012  0.071429  1.133571   \n",
       "9   5997.459077   333.617230  0.860099  0.046252  0.055740  1.205122   \n",
       "\n",
       "   CONTRUCTIONYEAR  MAXBUILDINGFLOOR  CADASTRALQUALITYID        CLASE  \n",
       "0             2002               0.0                   2  RESIDENTIAL  \n",
       "1             1949               1.0                   8  RESIDENTIAL  \n",
       "2             1986               1.0                   5  RESIDENTIAL  \n",
       "3             1999               1.0                   2  RESIDENTIAL  \n",
       "4             1966               8.0                   6  RESIDENTIAL  \n",
       "5             1992               4.0                   5  RESIDENTIAL  \n",
       "6             1982               1.0                   4  RESIDENTIAL  \n",
       "7             1952               7.0                   4  RESIDENTIAL  \n",
       "8             1970               1.0                   4  RESIDENTIAL  \n",
       "9             1990               1.0                   6   INDUSTRIAL  \n",
       "\n",
       "[10 rows x 56 columns]"
      ]
     },
     "execution_count": 3,
     "metadata": {},
     "output_type": "execute_result"
    }
   ],
   "source": [
    "data.head(10)"
   ]
  },
  {
   "cell_type": "code",
   "execution_count": 4,
   "metadata": {},
   "outputs": [
    {
     "data": {
      "text/plain": [
       "<BarContainer object of 7 artists>"
      ]
     },
     "execution_count": 4,
     "metadata": {},
     "output_type": "execute_result"
    },
    {
     "data": {
      "image/png": "[encoded data removed]",
      "text/plain": [
       "<Figure size 432x288 with 1 Axes>"
      ]
     },
     "metadata": {
      "needs_background": "light"
     },
     "output_type": "display_data"
    }
   ],
   "source": [
    "# Distribucion de las clases en los datos\n",
    "d = data[[\"X\",\"CLASE\"]].groupby(\"CLASE\").count()\n",
    "class_percentage = d/d[\"X\"].sum()*100\n",
    "plt.bar(d.index, class_percentage[\"X\"])"
   ]
  },
  {
   "cell_type": "code",
   "execution_count": 6,
   "metadata": {},
   "outputs": [],
   "source": [
    "X = data.drop(['CLASE', 'ID'], axis=1)\n",
    "y = pd.DataFrame(data['CLASE'])\n",
    "y.CLASE = pd.Categorical(y.CLASE)\n",
    "y['code'] = y.CLASE.cat.codes\n",
    "y = y.drop(['CLASE'], axis=1)"
   ]
  },
  {
   "cell_type": "code",
   "execution_count": 7,
   "metadata": {},
   "outputs": [],
   "source": [
    "replacement  = {\"A\": 12, \"B\" : 11, \"C\" : 10, \"1\": 9, \"2\" : 8, \"3\" : 7, \"4\" : 6, \"5\" : 5,\"6\" : 4,\"7\" : 3,\"8\" : 2,\"9\" : 1}\n",
    "X.CADASTRALQUALITYID =  X.CADASTRALQUALITYID.replace(replacement)"
   ]
  },
  {
   "cell_type": "code",
   "execution_count": 54,
   "metadata": {},
   "outputs": [],
   "source": [
    "\n",
    "nans = data[data.isna().any(axis = 1)].index\n",
    "data = data.drop(nans)"
   ]
  },
  {
   "cell_type": "code",
   "execution_count": 9,
   "metadata": {},
   "outputs": [
    {
     "name": "stdout",
     "output_type": "stream",
     "text": [
      "[  9864   9864  10145  10145  12273  12273  13089  13089  16330  16330\n",
      "  23184  23184  34988  34988  38537  38537  43448  43448  48059  48059\n",
      "  55054  55054  57998  57998  61724  61724  67773  67773  69253  69253\n",
      "  71932  71932  76837  76837  78351  78351  78891  78891 102247 102247]\n",
      "[9864, 10145, 12273, 13089, 16330, 23184, 34988, 38537, 43448, 48059, 55054, 57998, 61724, 67773, 69253, 71932, 76837, 78351, 78891, 102247]\n",
      "Number values X: 103210\n",
      "Number values y: 103210\n"
     ]
    }
   ],
   "source": [
    "#Removing row with any NaN value\n",
    "#print(len(np.where(np.isnan(X))[0]))\n",
    "repeated = np.where(np.isnan(X))[0]\n",
    "print(repeated)\n",
    "repeated = list(dict.fromkeys(repeated))\n",
    "print(repeated)\n",
    "X = X.drop(repeated, axis=0)\n",
    "y = y.drop(repeated, axis=0)\n",
    "print('Number values X: ' + str(len(X)))\n",
    "print('Number values y: ' + str(len(y)))\n"
   ]
  },
  {
   "cell_type": "code",
   "execution_count": 79,
   "metadata": {},
   "outputs": [],
   "source": [
    "def data_augmentation_SMOTE(data):\n",
    "    replacement  = {\"A\": 12, \"B\" : 11, \"C\" : 10, \"1\": 9, \"2\" : 8, \"3\" : 7, \"4\" : 6, \"5\" : 5,\"6\" : 4,\"7\" : 3,\"8\" : 2,\"9\" : 1}\n",
    "    #data.CADASTRALQUALITYID =  data.CADASTRALQUALITYID.replace(replacement)\n",
    "    \n",
    "    X = data.drop(['CLASE', 'ID'], axis=1)\n",
    "    y = data['CLASE']\n",
    "    cats = pd.Categorical(y)\n",
    "    X_augmented, y_augmented = oversample.fit_resample(X, cats)\n",
    "    print('Number values X after SMOTE: ' + str(len(X_augmented)))\n",
    "    print('Number values y after SMOTE: ' + str(len(y_augmented)))\n",
    "    X_augmented[\"CLASE\"] = y_augmented\n",
    "    return X_augmented"
   ]
  },
  {
   "cell_type": "code",
   "execution_count": 81,
   "metadata": {
    "scrolled": true
   },
   "outputs": [
    {
     "name": "stdout",
     "output_type": "stream",
     "text": [
      "Number values X after SMOTE: 631211\n",
      "Number values y after SMOTE: 631211\n"
     ]
    }
   ],
   "source": [
    "augmented = data_augmentation_SMOTE(data)"
   ]
  },
  {
   "cell_type": "code",
   "execution_count": 57,
   "metadata": {},
   "outputs": [
    {
     "name": "stdout",
     "output_type": "stream",
     "text": [
      "Number values X after SMOTE: 631211\n",
      "Number values y after SMOTE: 631211\n"
     ]
    }
   ],
   "source": [
    "X, y = oversample.fit_resample(X, y)\n",
    "print('Number values X after SMOTE: ' + str(len(X)))\n",
    "print('Number values y after SMOTE: ' + str(len(y)))"
   ]
  },
  {
   "cell_type": "code",
   "execution_count": null,
   "metadata": {},
   "outputs": [],
   "source": []
  },
  {
   "cell_type": "code",
   "execution_count": 11,
   "metadata": {},
   "outputs": [],
   "source": [
    "dataSmote = X\n",
    "dataSmote['CLASE'] = y"
   ]
  },
  {
   "cell_type": "code",
   "execution_count": 60,
   "metadata": {},
   "outputs": [
    {
     "data": {
      "text/plain": [
       "[RESIDENTIAL, RESIDENTIAL, RESIDENTIAL, RESIDENTIAL, RESIDENTIAL, ..., RESIDENTIAL, RESIDENTIAL, INDUSTRIAL, RESIDENTIAL, RESIDENTIAL]\n",
       "Length: 103210\n",
       "Categories (7, object): [AGRICULTURE, INDUSTRIAL, OFFICE, OTHER, PUBLIC, RESIDENTIAL, RETAIL]"
      ]
     },
     "execution_count": 60,
     "metadata": {},
     "output_type": "execute_result"
    }
   ],
   "source": [
    "pd.Categorical(data.CLASE)"
   ]
  },
  {
   "cell_type": "code",
   "execution_count": 12,
   "metadata": {},
   "outputs": [
    {
     "data": {
      "text/plain": [
       "<BarContainer object of 7 artists>"
      ]
     },
     "execution_count": 12,
     "metadata": {},
     "output_type": "execute_result"
    },
    {
     "data": {
      "image/png": "[encoded data removed]",
      "text/plain": [
       "<Figure size 432x288 with 1 Axes>"
      ]
     },
     "metadata": {
      "needs_background": "light"
     },
     "output_type": "display_data"
    }
   ],
   "source": [
    "# Distribucion de las clases en los datos\n",
    "d = dataSmote[[\"X\",\"CLASE\"]].groupby(\"CLASE\").count()\n",
    "class_percentage = d/d[\"X\"].sum()*100\n",
    "plt.bar(d.index, class_percentage[\"X\"])"
   ]
  },
  {
   "cell_type": "code",
   "execution_count": 13,
   "metadata": {},
   "outputs": [],
   "source": [
    "dataSmote.to_csv('csv/smote.csv')"
   ]
  },
  {
   "cell_type": "code",
   "execution_count": null,
   "metadata": {},
   "outputs": [],
   "source": []
  }
 ],
 "metadata": {
  "kernelspec": {
   "display_name": "Python 3",
   "language": "python",
   "name": "python3"
  },
  "language_info": {
   "codemirror_mode": {
    "name": "ipython",
    "version": 3
   },
   "file_extension": ".py",
   "mimetype": "text/x-python",
   "name": "python",
   "nbconvert_exporter": "python",
   "pygments_lexer": "ipython3",
   "version": "3.7.6"
  }
 },
 "nbformat": 4,
 "nbformat_minor": 2
}
